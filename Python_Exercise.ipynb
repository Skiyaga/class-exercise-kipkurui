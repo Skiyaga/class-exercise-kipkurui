{
 "cells": [
  {
   "cell_type": "markdown",
   "metadata": {},
   "source": [
    "#### 1: Write a function to convert celcius to Fahrenheit"
   ]
  },
  {
   "cell_type": "code",
   "execution_count": 11,
   "metadata": {},
   "outputs": [],
   "source": [
    "def celciustoFahrenheit(celcius):\n",
    "    '''\n",
    "    Convert Celcius to ferhei\n",
    "    \n",
    "    '''\n",
    "    return (celcius * 9/5) + 32"
   ]
  },
  {
   "cell_type": "code",
   "execution_count": 12,
   "metadata": {},
   "outputs": [
    {
     "data": {
      "text/plain": [
       "50.0"
      ]
     },
     "execution_count": 12,
     "metadata": {},
     "output_type": "execute_result"
    }
   ],
   "source": [
    "celciustoFahrenheit(10)"
   ]
  },
  {
   "cell_type": "markdown",
   "metadata": {},
   "source": [
    "#### 2. Write a function that given weight and height returns the BMI of the person. "
   ]
  },
  {
   "cell_type": "code",
   "execution_count": 72,
   "metadata": {},
   "outputs": [],
   "source": [
    "def calcBMI(weight, height):\n",
    "    \"\"\"\n",
    "    BMI = kg/m2\n",
    "    \"\"\"\n",
    "    \n",
    "    return weight/height**2"
   ]
  },
  {
   "cell_type": "code",
   "execution_count": 73,
   "metadata": {},
   "outputs": [
    {
     "data": {
      "text/plain": [
       "31.11111111111111"
      ]
     },
     "execution_count": 73,
     "metadata": {},
     "output_type": "execute_result"
    }
   ],
   "source": [
    "calcBMI(70, 1.5)"
   ]
  },
  {
   "cell_type": "markdown",
   "metadata": {},
   "source": [
    "#### 3. Write a function called fizz_buzz that takes a number.\n",
    "   - If the number is divisible by 3, it should return “Fizz”.\n",
    "   - If it is divisible by 5, it should return “Buzz”.\n",
    "   - If it is divisible by both 3 and 5, it should return “FizzBuzz”.\n",
    "   - Otherwise, it should return the same number."
   ]
  },
  {
   "cell_type": "code",
   "execution_count": 74,
   "metadata": {},
   "outputs": [],
   "source": [
    "def fizz_buzz(no):\n",
    "    \"\"\"\n",
    "    \n",
    "    \"\"\"\n",
    "    if (no%3 == 0) and (no%5 == 0):\n",
    "        print('FizzBuzz')\n",
    "    else:\n",
    "        if no%5 == 0:\n",
    "            print('Buzz')\n",
    "        elif no % 3 == 0:\n",
    "            print(\"Fizz\")\n",
    "        else:\n",
    "            return no\n",
    "    "
   ]
  },
  {
   "cell_type": "code",
   "execution_count": 75,
   "metadata": {},
   "outputs": [
    {
     "name": "stdout",
     "output_type": "stream",
     "text": [
      "Fizz\n"
     ]
    }
   ],
   "source": [
    "fizz_buzz(3)"
   ]
  },
  {
   "cell_type": "markdown",
   "metadata": {},
   "source": [
    "#### 4. Write a function that returns the maximum of two numbers."
   ]
  },
  {
   "cell_type": "code",
   "execution_count": 5,
   "metadata": {},
   "outputs": [],
   "source": [
    "def retMax(a,b):\n",
    "    return max(a,b)"
   ]
  },
  {
   "cell_type": "code",
   "execution_count": 8,
   "metadata": {},
   "outputs": [
    {
     "data": {
      "text/plain": [
       "78"
      ]
     },
     "execution_count": 8,
     "metadata": {},
     "output_type": "execute_result"
    }
   ],
   "source": [
    "retMax(78,7)"
   ]
  },
  {
   "cell_type": "markdown",
   "metadata": {},
   "source": [
    "#### 5. Create a program that asks the user to enter their name and their age. Print out a message addressed to them that tells them the year that they will turn 100 years o"
   ]
  },
  {
   "cell_type": "code",
   "execution_count": 9,
   "metadata": {},
   "outputs": [],
   "source": [
    "def year100(name,age):\n",
    "    \"\"\"\n",
    "    return: Year to turn 100\n",
    "    \"\"\"\n",
    "    to100 = (2019-age) + 100\n",
    "    \n",
    "    print(\"%s, you will turn 100 in the year %i\" % (name,to100))\n",
    "    "
   ]
  },
  {
   "cell_type": "code",
   "execution_count": 76,
   "metadata": {},
   "outputs": [
    {
     "name": "stdout",
     "output_type": "stream",
     "text": [
      "Please enter your name: Caleb\n",
      "Please enter your age: 30\n",
      "Caleb, you will turn 100 in the year 2089\n"
     ]
    }
   ],
   "source": [
    "name = input(\"Please enter your name: \")\n",
    "age = input(\"Please enter your age: \")\n",
    "year100(name,int(age))"
   ]
  },
  {
   "cell_type": "markdown",
   "metadata": {},
   "source": [
    "#### 6. Write a function for checking the speed of drivers. This function should have one parameter: speed.\n",
    "  - If speed is less than 70, it should print “Ok”.\n",
    "  - Otherwise, for every 5km above the speed limit (70), it should give the driver one demerit point and print the total number of demerit points. For example, if the speed is 80, it should print: “Points: 2”.\n",
    "  - If the driver gets more than 12 points, the function should print: “License suspended”"
   ]
  },
  {
   "cell_type": "code",
   "execution_count": 81,
   "metadata": {},
   "outputs": [],
   "source": [
    "def checkSpeed(speed):\n",
    "    if speed < 70:\n",
    "        print(\"OK\")\n",
    "    else:\n",
    "        points = (speed - 70) // 5\n",
    "        if points < 12:\n",
    "            print(\"Points: %i\" % points)\n",
    "        else:\n",
    "            print(\"License suspended\")"
   ]
  },
  {
   "cell_type": "code",
   "execution_count": 82,
   "metadata": {},
   "outputs": [
    {
     "name": "stdout",
     "output_type": "stream",
     "text": [
      "License suspended\n"
     ]
    }
   ],
   "source": [
    "checkSpeed(160)"
   ]
  },
  {
   "cell_type": "markdown",
   "metadata": {},
   "source": [
    "#### 7. Write a function called showNumbers that takes a parameter called limit. It should print all the numbers between 0 and limit with a label to identify the even and odd numbers. For example, if the limit is 3, it should print:\n",
    "  - 0 EVEN\n",
    "  - 1 ODD\n",
    "  - 2 EVEN\n",
    "  - 3 ODD"
   ]
  },
  {
   "cell_type": "code",
   "execution_count": 83,
   "metadata": {},
   "outputs": [],
   "source": [
    "def showNumbers(limit):\n",
    "    for i in range(limit+1):\n",
    "        if i % 2 == 0:\n",
    "            print('%i EVEN' % i)\n",
    "        else:\n",
    "            print('%i ODD' % i)\n",
    "    "
   ]
  },
  {
   "cell_type": "code",
   "execution_count": 84,
   "metadata": {},
   "outputs": [
    {
     "name": "stdout",
     "output_type": "stream",
     "text": [
      "0 EVEN\n",
      "1 ODD\n",
      "2 EVEN\n",
      "3 ODD\n",
      "4 EVEN\n",
      "5 ODD\n",
      "6 EVEN\n",
      "7 ODD\n",
      "8 EVEN\n",
      "9 ODD\n",
      "10 EVEN\n"
     ]
    }
   ],
   "source": [
    "showNumbers(10)"
   ]
  },
  {
   "cell_type": "markdown",
   "metadata": {},
   "source": [
    "#### 8. Write a function that returns the sum of multiples of 3 and 5 between 0 and limit (parameter). For example, if limit is 20, it should return the sum of 3, 5, 6, 9, 10, 12, 15, 18, 20."
   ]
  },
  {
   "cell_type": "code",
   "execution_count": 85,
   "metadata": {},
   "outputs": [],
   "source": [
    "def mult35(limit):\n",
    "    some = []\n",
    "    for no in range(limit+1):\n",
    "        if (no%3 == 0) or (no%5 == 0):\n",
    "            some.append(no)\n",
    "    return(sum(some))"
   ]
  },
  {
   "cell_type": "code",
   "execution_count": 90,
   "metadata": {},
   "outputs": [
    {
     "data": {
      "text/plain": [
       "14"
      ]
     },
     "execution_count": 90,
     "metadata": {},
     "output_type": "execute_result"
    }
   ],
   "source": [
    "mult35(7)"
   ]
  },
  {
   "cell_type": "markdown",
   "metadata": {},
   "source": [
    "#### 9. Write a function called show_stars(rows). If rows is 5, it should print the following:\n",
    "``` \n",
    "        *\n",
    "        **\n",
    "        ***\n",
    "        ****\n",
    "        *****\n",
    "```\n"
   ]
  },
  {
   "cell_type": "code",
   "execution_count": 91,
   "metadata": {},
   "outputs": [],
   "source": [
    "def show_stars(rows):\n",
    "    for i in range(1,rows+1):\n",
    "        print('*'*i)\n",
    "    "
   ]
  },
  {
   "cell_type": "code",
   "execution_count": 92,
   "metadata": {},
   "outputs": [
    {
     "name": "stdout",
     "output_type": "stream",
     "text": [
      "*\n",
      "**\n",
      "***\n",
      "****\n",
      "*****\n"
     ]
    }
   ],
   "source": [
    "show_stars(5)"
   ]
  },
  {
   "cell_type": "markdown",
   "metadata": {},
   "source": [
    "#### 10. Write a function that prints all the prime numbers between 0 and limit where limit is a parameter."
   ]
  },
  {
   "cell_type": "code",
   "execution_count": 93,
   "metadata": {},
   "outputs": [],
   "source": [
    "def isPrime(no):\n",
    "    check = False\n",
    "    if no > 1:\n",
    "        for i in range(2,no):\n",
    "            if (no % i) == 0:\n",
    "                check = False\n",
    "                break\n",
    "            else:\n",
    "                check = True\n",
    "        return check"
   ]
  },
  {
   "cell_type": "code",
   "execution_count": 94,
   "metadata": {},
   "outputs": [
    {
     "data": {
      "text/plain": [
       "False"
      ]
     },
     "execution_count": 94,
     "metadata": {},
     "output_type": "execute_result"
    }
   ],
   "source": [
    "isPrime(9)"
   ]
  },
  {
   "cell_type": "code",
   "execution_count": 95,
   "metadata": {},
   "outputs": [],
   "source": [
    "def printPrimes(no):\n",
    "    for i in range(2,no):\n",
    "        if isPrime(i):\n",
    "            print(i)"
   ]
  },
  {
   "cell_type": "code",
   "execution_count": null,
   "metadata": {},
   "outputs": [],
   "source": [
    "printPrimes(100)"
   ]
  },
  {
   "cell_type": "code",
   "execution_count": null,
   "metadata": {},
   "outputs": [],
   "source": []
  }
 ],
 "metadata": {
  "kernelspec": {
   "display_name": "Python 3",
   "language": "python",
   "name": "python3"
  },
  "language_info": {
   "codemirror_mode": {
    "name": "ipython",
    "version": 3
   },
   "file_extension": ".py",
   "mimetype": "text/x-python",
   "name": "python",
   "nbconvert_exporter": "python",
   "pygments_lexer": "ipython3",
   "version": "3.6.8"
  }
 },
 "nbformat": 4,
 "nbformat_minor": 2
}
